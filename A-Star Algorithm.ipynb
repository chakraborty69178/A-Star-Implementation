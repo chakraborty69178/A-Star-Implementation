{
 "cells": [
  {
   "cell_type": "markdown",
   "metadata": {},
   "source": [
    "<center><h1> Artifical and Computational Intelligence Assignment 1 </h1></center>\n",
    " \n",
    "Problem Solving by using A*\n",
    "\n",
    "Weightage: 13%\n",
    "\n",
    "Date of Posting - 20/July/2020\n",
    "\n",
    "Deadline - 30/July/2020"
   ]
  },
  {
   "cell_type": "markdown",
   "metadata": {},
   "source": [
    "Please Enter group and Individual information below:\n",
    "\n",
    "Group ID/Number:\n",
    "\n",
    "Group Members BITS ID:"
   ]
  },
  {
   "cell_type": "markdown",
   "metadata": {},
   "source": [
    "<h3>Things to Follow</h3>\n",
    "\n",
    "1. Use appropriate data structures for the fringes and explain the reasoning behind the usage. You need not create data structures, instead use available libraries directly.\n",
    "\n",
    "2. Avoid any hard-coding unless absolutely necessary.\n",
    "\n",
    "3. Provide proper documentation\n",
    "\n",
    "4. Read the question file provided carefully and attempt all the questions! "
   ]
  },
  {
   "cell_type": "markdown",
   "metadata": {},
   "source": [
    "Coding begins now!!!"
   ]
  },
  {
   "cell_type": "markdown",
   "metadata": {},
   "source": [
    "1) Define the environment representation in the following code block"
   ]
  },
  {
   "cell_type": "raw",
   "metadata": {},
   "source": [
    "#PEAS Description of the task environment here :\n",
    "\n",
    "\n",
    "\n"
   ]
  },
  {
   "cell_type": "code",
   "execution_count": null,
   "metadata": {},
   "outputs": [],
   "source": [
    "#Environment representation goes here\n",
    "\n"
   ]
  },
  {
   "cell_type": "markdown",
   "metadata": {},
   "source": [
    "Define the haversine formula and what it does"
   ]
  },
  {
   "cell_type": "raw",
   "metadata": {},
   "source": [
    "#haversine formula representation \n"
   ]
  },
  {
   "cell_type": "markdown",
   "metadata": {},
   "source": [
    "# Below the Huristic Distance is calculated by Directly calculating the distance between two Geo-Location that is Lattitude and Longitude"
   ]
  },
  {
   "cell_type": "code",
   "execution_count": 31,
   "metadata": {},
   "outputs": [],
   "source": [
    "#Function for calculating distance from each node/city to Destination\n",
    "import geopy.distance\n",
    "def calcDist(coords_1,coords_2):\n",
    "    return geopy.distance.geodesic(coords_1, coords_2).km\n",
    "    \n"
   ]
  },
  {
   "cell_type": "code",
   "execution_count": 14,
   "metadata": {},
   "outputs": [],
   "source": [
    "class Node:\n",
    "    # Initialize the class\n",
    "    def __init__(self, name:str, parent:str):\n",
    "        self.name = name\n",
    "        self.parent = parent\n",
    "        self.g = 0 # Distance to start node\n",
    "        self.h = 0 # Huristic Distance to goal node\n",
    "        self.f = 0 # Total cost (f = g+h)\n",
    "    # Compare nodes\n",
    "    def __eq__(self, other):\n",
    "        return self.name == other.name\n",
    "    # Sort nodes\n",
    "    def __lt__(self, other):\n",
    "         return self.f < other.f\n",
    "    # Print node\n",
    "    def __repr__(self):\n",
    "        return ('({0},{1})'.format(self.name, self.f))\n"
   ]
  },
  {
   "cell_type": "code",
   "execution_count": 15,
   "metadata": {},
   "outputs": [],
   "source": [
    "class Graph:\n",
    "    # Initialize the class\n",
    "    def __init__(self, graph_dict=None, directed=True):\n",
    "        self.graph_dict = graph_dict or {}\n",
    "        self.directed = directed\n",
    "        if not directed:\n",
    "            self.make_undirected()\n",
    "    # Create an undirected graph by adding symmetric edges\n",
    "    def make_undirected(self):\n",
    "        for a in list(self.graph_dict.keys()):\n",
    "            for (b, dist) in self.graph_dict[a].items():\n",
    "                self.graph_dict.setdefault(b, {})[a] = dist\n",
    "    # Add a link from A and B of given distance, and also add the inverse link if the graph is undirected\n",
    "    def connect(self, A, B, distance=1):\n",
    "        self.graph_dict.setdefault(A, {})[B] = distance\n",
    "        if not self.directed:\n",
    "            self.graph_dict.setdefault(B, {})[A] = distance\n",
    "    # Get neighbors or a neighbor\n",
    "    def get(self, a, b=None):\n",
    "        links = self.graph_dict.setdefault(a, {})\n",
    "        if b is None:\n",
    "            return links\n",
    "        else:\n",
    "            return links.get(b)\n",
    "    # Return a list of nodes in the graph\n",
    "    def nodes(self):\n",
    "        s1 = set([k for k in self.graph_dict.keys()])\n",
    "        s2 = set([k2 for v in self.graph_dict.values() for k2, v2 in v.items()])\n",
    "        nodes = s1.union(s2)\n",
    "        return list(nodes)"
   ]
  },
  {
   "cell_type": "markdown",
   "metadata": {},
   "source": [
    "3) Implementation of A* Algorithm . Feel free to add code blocks for each methods needed starting here.\n",
    "Please modularize the implementation of A* and write each of them in a code block. "
   ]
  },
  {
   "cell_type": "code",
   "execution_count": 24,
   "metadata": {},
   "outputs": [],
   "source": [
    "def astar_search(graph, heuristics, start, end):\n",
    "    \n",
    "    # Create lists for open nodes and closed nodes\n",
    "    open = []\n",
    "    closed = []\n",
    "    # Create a start node and an goal node\n",
    "    start_node = Node(start, None)\n",
    "    goal_node = Node(end, None)\n",
    "    # Add the start node\n",
    "    open.append(start_node)\n",
    "    \n",
    "    # Loop until the open list is empty\n",
    "    while len(open) > 0:\n",
    "        # Sort the open list to get the node with the lowest cost first\n",
    "        open.sort()\n",
    "        # Get the node with the lowest cost\n",
    "        current_node = open.pop(0)\n",
    "        # Add the current node to the closed list\n",
    "        closed.append(current_node)\n",
    "        \n",
    "        # Check if we have reached the goal, return the path\n",
    "        if current_node == goal_node:\n",
    "            path = []\n",
    "            while current_node != start_node:\n",
    "                path.append(current_node.name + ': ' + str(current_node.g))\n",
    "                current_node = current_node.parent\n",
    "            path.append(start_node.name + ': ' + str(start_node.g))\n",
    "            # Return reversed path\n",
    "            return path[::-1]\n",
    "        # Get neighbours\n",
    "        neighbors = graph.get(current_node.name)\n",
    "        # Loop neighbors\n",
    "        for key, value in neighbors.items():\n",
    "            # Create a neighbor node\n",
    "            neighbor = Node(key, current_node)\n",
    "            # Check if the neighbor is in the closed list\n",
    "            if(neighbor in closed):\n",
    "                continue\n",
    "            # Calculate full path cost\n",
    "            neighbor.g = current_node.g + graph.get(current_node.name, neighbor.name)\n",
    "            neighbor.h = heuristics.get(neighbor.name)\n",
    "            neighbor.f = neighbor.g + neighbor.h\n",
    "            # Check if neighbor is in open list and if it has a lower f value\n",
    "            if(add_to_open(open, neighbor) == True):\n",
    "                # Everything is green, add neighbor to open list\n",
    "                open.append(neighbor)\n",
    "    # Return None, no path is found\n",
    "    return None\n",
    "# Check if a neighbor should be added to open list\n",
    "def add_to_open(open, neighbor):\n",
    "    for node in open:\n",
    "        if (neighbor == node and neighbor.f > node.f):\n",
    "            return False\n",
    "    return True"
   ]
  },
  {
   "cell_type": "code",
   "execution_count": 17,
   "metadata": {},
   "outputs": [],
   "source": [
    "#Code Block 2 .. "
   ]
  },
  {
   "cell_type": "markdown",
   "metadata": {},
   "source": [
    "Call your main function/algorithm block in the next code block with appropriate input representation"
   ]
  },
  {
   "cell_type": "code",
   "execution_count": 35,
   "metadata": {},
   "outputs": [],
   "source": [
    "def main():\n",
    "    # Create a graph\n",
    "    routeMaze = Graph()\n",
    "    # Create graph connections (Actual distance)\n",
    "    routeMaze.connect('Bengaluru', 'Sirsi', 405)\n",
    "    routeMaze.connect('Bengaluru', 'Hubli', 412)\n",
    "    routeMaze.connect('Bengaluru', 'Belgum', 507)\n",
    "    routeMaze.connect('Sirsi', 'Ankola', 91)\n",
    "    routeMaze.connect('Hubli', 'Yellapur', 71)\n",
    "    routeMaze.connect('Hubli', 'Dharwad', 18)\n",
    "    routeMaze.connect('Belgum', 'Chorlaghat', 59)\n",
    "    routeMaze.connect('Yellapur', 'Ankola', 72)\n",
    "    routeMaze.connect('Dharwad', 'Goa', 140)\n",
    "    routeMaze.connect('Chorlaghat', 'Goa', 67)\n",
    "    routeMaze.connect('Ankola', 'Goa', 111)\n",
    "    # Make graph undirected, create symmetric connections\n",
    "    routeMaze.make_undirected()\n",
    "    \n",
    "    #Loding the Geo Location in a Dict\n",
    "    location = {}\n",
    "    location['Belgum'] = (15.8497,74.4977)\n",
    "    location['Chorlaghat'] =(15.6496,74.1189)\n",
    "    location['Hubli'] = (15.3647,75.1240)\n",
    "    location['Dharwad'] = (15.4589,75.0078)\n",
    "    location['Yellapur'] = (14.9643,74.7121)\n",
    "    location['Sirsi'] = (14.6196,74.8441)\n",
    "    location['Ankola'] = (14.6653,74.3001)\n",
    "    location['Bengaluru'] = (12.9716,77.5946)\n",
    "    location['Goa'] = (15.2993,74.1240)\n",
    "    \n",
    "    #Calculating Huristic Val for each Node\n",
    "    \n",
    "    heuristics = {}\n",
    "    heuristics['Belgum'] = calcDist(location['Belgum'],location['Goa'])\n",
    "    heuristics['Chorlaghat'] =calcDist(location['Chorlaghat'],location['Goa'])\n",
    "    heuristics['Hubli'] = calcDist(location['Hubli'],location['Goa'])\n",
    "    heuristics['Dharwad'] = calcDist(location['Dharwad'],location['Goa'])\n",
    "    heuristics['Yellapur'] = calcDist(location['Yellapur'],location['Goa'])\n",
    "    heuristics['Sirsi'] = calcDist(location['Sirsi'],location['Goa'])\n",
    "    heuristics['Ankola'] = calcDist(location['Ankola'],location['Goa'])\n",
    "    heuristics['Bengaluru'] =calcDist(location['Bengaluru'],location['Goa'])\n",
    "    heuristics['Goa'] = calcDist(location['Goa'],location['Goa'])\n",
    "    \n",
    "    path = astar_search(routeMaze, heuristics, 'Bengaluru', 'Goa')\n",
    "    print(path)\n",
    "    print()    \n",
    "    \n"
   ]
  },
  {
   "cell_type": "markdown",
   "metadata": {},
   "source": [
    "The agent should provide expected output for questions mentioned below in the subsequent blocks"
   ]
  },
  {
   "cell_type": "markdown",
   "metadata": {},
   "source": [
    "(3.1) Path taken to reach destination from Bengaluru"
   ]
  },
  {
   "cell_type": "code",
   "execution_count": 36,
   "metadata": {},
   "outputs": [
    {
     "name": "stdout",
     "output_type": "stream",
     "text": [
      "['Bengaluru: 0', 'Hubli: 412', 'Dharwad: 430', 'Goa: 570']\n",
      "\n"
     ]
    }
   ],
   "source": [
    "# Execute statement to retrieve the path taken here\n",
    "if __name__ == \"__main__\": main()"
   ]
  },
  {
   "cell_type": "markdown",
   "metadata": {},
   "source": [
    "(3.2) Cost of the path"
   ]
  },
  {
   "cell_type": "code",
   "execution_count": null,
   "metadata": {},
   "outputs": [],
   "source": [
    "# Execute statement to retrieve the cost of the path here\n"
   ]
  },
  {
   "cell_type": "markdown",
   "metadata": {},
   "source": [
    "(3.3) Total Number of nodes vistied to get this state"
   ]
  },
  {
   "cell_type": "code",
   "execution_count": null,
   "metadata": {},
   "outputs": [],
   "source": [
    "# Execute statement to retrieve the total number of nodes visited to get this state here\n"
   ]
  },
  {
   "cell_type": "markdown",
   "metadata": {},
   "source": [
    "<center>All the best!! Happy Coding!!Let human intelligence prevail</center>\n",
    "<center>**********************************************************</center>"
   ]
  }
 ],
 "metadata": {
  "kernelspec": {
   "display_name": "Python 3",
   "language": "python",
   "name": "python3"
  },
  "language_info": {
   "codemirror_mode": {
    "name": "ipython",
    "version": 3
   },
   "file_extension": ".py",
   "mimetype": "text/x-python",
   "name": "python",
   "nbconvert_exporter": "python",
   "pygments_lexer": "ipython3",
   "version": "3.7.6"
  }
 },
 "nbformat": 4,
 "nbformat_minor": 2
}
