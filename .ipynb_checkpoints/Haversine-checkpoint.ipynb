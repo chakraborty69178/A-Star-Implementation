{
 "cells": [
  {
   "cell_type": "code",
   "execution_count": 49,
   "metadata": {},
   "outputs": [],
   "source": [
    "def haversine_distance(lat1, lon1, lat2, lon2):\n",
    "   r = 6371\n",
    "   phi1 = np.radians(lat1)\n",
    "   phi2 = np.radians(lat2)\n",
    "   delta_phi = np.radians(lat2 - lat1)\n",
    "   delta_lambda = np.radians(lon2 - lon1)\n",
    "   a = np.sin(delta_phi / 2)**2 + np.cos(phi1) * np.cos(phi2) *   np.sin(delta_lambda / 2)**2\n",
    "   res = r * (2 * np.arctan2(np.sqrt(a), np.sqrt(1 - a)))\n",
    "   return np.round(res, 2)"
   ]
  },
  {
   "cell_type": "code",
   "execution_count": 47,
   "metadata": {},
   "outputs": [],
   "source": [
    "start_lat, start_lon = 15.2993, 74.1240"
   ]
  },
  {
   "cell_type": "code",
   "execution_count": 48,
   "metadata": {},
   "outputs": [],
   "source": [
    "cities = pd.DataFrame(data={\n",
    "   'City': ['Belgaum', 'ChorlaGhat', 'Hubli', 'Dharwad', 'Yellapur', 'Sirsi', 'Ankola', 'Bengaluru'],\n",
    "   'Lat' : [15.8497, 15.6496, 15.3647, 15.4589, 14.9643, 14.6196, 14.6653, 12.9716],\n",
    "   'Lon' : [74.4977, 74.1189, 75.1240, 75.0078, 74.7121, 74.8441, 74.3001, 77.5946]\n",
    "})"
   ]
  },
  {
   "cell_type": "code",
   "execution_count": 50,
   "metadata": {},
   "outputs": [],
   "source": [
    "distances_km = []\n",
    "for row in cities.itertuples(index=False):\n",
    "   distances_km.append(\n",
    "       haversine_distance(start_lat, start_lon, row.Lat, row.Lon)\n",
    "   )"
   ]
  },
  {
   "cell_type": "code",
   "execution_count": 51,
   "metadata": {},
   "outputs": [],
   "source": [
    "cities['DistanceFromNY'] = distances_km"
   ]
  },
  {
   "cell_type": "code",
   "execution_count": 45,
   "metadata": {},
   "outputs": [],
   "source": [
    "import pandas as pd"
   ]
  },
  {
   "cell_type": "code",
   "execution_count": 46,
   "metadata": {},
   "outputs": [],
   "source": [
    "import numpy as np"
   ]
  },
  {
   "cell_type": "code",
   "execution_count": 52,
   "metadata": {},
   "outputs": [
    {
     "name": "stdout",
     "output_type": "stream",
     "text": [
      "         City      Lat      Lon  DistanceFromNY\n",
      "0     Belgaum  15.8497  74.4977           73.13\n",
      "1  ChorlaGhat  15.6496  74.1189           38.96\n",
      "2       Hubli  15.3647  75.1240          107.48\n",
      "3     Dharwad  15.4589  75.0078           96.40\n",
      "4    Yellapur  14.9643  74.7121           73.30\n",
      "5       Sirsi  14.6196  74.8441          108.15\n",
      "6      Ankola  14.6653  74.3001           72.99\n",
      "7   Bengaluru  12.9716  77.5946          454.99\n"
     ]
    }
   ],
   "source": [
    "print(cities)"
   ]
  },
  {
   "cell_type": "code",
   "execution_count": null,
   "metadata": {},
   "outputs": [],
   "source": []
  }
 ],
 "metadata": {
  "kernelspec": {
   "display_name": "Python 3",
   "language": "python",
   "name": "python3"
  },
  "language_info": {
   "codemirror_mode": {
    "name": "ipython",
    "version": 3
   },
   "file_extension": ".py",
   "mimetype": "text/x-python",
   "name": "python",
   "nbconvert_exporter": "python",
   "pygments_lexer": "ipython3",
   "version": "3.7.6"
  }
 },
 "nbformat": 4,
 "nbformat_minor": 4
}
